{
 "cells": [
  {
   "cell_type": "code",
   "execution_count": 1,
   "id": "07f9f742-1f92-420d-b598-72b325560c67",
   "metadata": {
    "tags": []
   },
   "outputs": [
    {
     "name": "stdout",
     "output_type": "stream",
     "text": [
      "Requirement already satisfied: beautifulsoup4 in /usr/local/lib/python3.10/site-packages (4.12.2)\n",
      "Requirement already satisfied: requests in /usr/local/lib/python3.10/site-packages (2.30.0)\n",
      "Requirement already satisfied: PyYAML in /usr/local/lib/python3.10/site-packages (6.0)\n",
      "Requirement already satisfied: soupsieve>1.2 in /usr/local/lib/python3.10/site-packages (from beautifulsoup4) (2.4.1)\n",
      "Requirement already satisfied: charset-normalizer<4,>=2 in /usr/local/lib/python3.10/site-packages (from requests) (3.1.0)\n",
      "Requirement already satisfied: idna<4,>=2.5 in /usr/local/lib/python3.10/site-packages (from requests) (3.4)\n",
      "Requirement already satisfied: urllib3<3,>=1.21.1 in /usr/local/lib/python3.10/site-packages (from requests) (2.0.2)\n",
      "Requirement already satisfied: certifi>=2017.4.17 in /usr/local/lib/python3.10/site-packages (from requests) (2023.5.7)\n",
      "\n",
      "\u001b[1m[\u001b[0m\u001b[34;49mnotice\u001b[0m\u001b[1;39;49m]\u001b[0m\u001b[39;49m A new release of pip is available: \u001b[0m\u001b[31;49m23.2.1\u001b[0m\u001b[39;49m -> \u001b[0m\u001b[32;49m24.0\u001b[0m\n",
      "\u001b[1m[\u001b[0m\u001b[34;49mnotice\u001b[0m\u001b[1;39;49m]\u001b[0m\u001b[39;49m To update, run: \u001b[0m\u001b[32;49mpython3.10 -m pip install --upgrade pip\u001b[0m\n"
     ]
    }
   ],
   "source": [
    "!pip install beautifulsoup4 requests PyYAML"
   ]
  },
  {
   "cell_type": "code",
   "execution_count": 2,
   "id": "68fe4bf3-4ec5-4ecf-ace1-7ad4e9dc5b5e",
   "metadata": {
    "tags": []
   },
   "outputs": [],
   "source": [
    "import requests\n",
    "from bs4 import BeautifulSoup\n",
    "import yaml\n",
    "\n",
    "def download_and_parse(url):\n",
    "    response = requests.get(url)\n",
    "    soup = BeautifulSoup(response.text, 'html.parser')\n",
    "\n",
    "    tables = soup.find_all('table')  # find all tables on the webpage\n",
    "\n",
    "    data = []\n",
    "    for table in tables:\n",
    "        rows = table.find_all('tr')\n",
    "        year = rows[0].find('th').text.strip()  # get the year from the first row\n",
    "\n",
    "        for row in rows[1:]:  # skip the header row\n",
    "            cols = row.find_all('td')\n",
    "            date = cols[0].text.strip()\n",
    "            mp3_link = cols[1].find('a')['href']\n",
    "            text_link = cols[2].find('a')['href']\n",
    "            data.append({\n",
    "                'year': year,\n",
    "                'date': date,\n",
    "                'mp3_link': mp3_link,\n",
    "                'text_link': text_link,\n",
    "            })\n",
    "\n",
    "    return data\n",
    "\n",
    "def save_as_yaml(data, filename):\n",
    "    with open(filename, 'w') as f:\n",
    "        yaml.dump(data, f)"
   ]
  },
  {
   "cell_type": "code",
   "execution_count": 3,
   "id": "75bdde55-a3a1-4ba3-8e45-3b0f899d970c",
   "metadata": {
    "tags": []
   },
   "outputs": [],
   "source": [
    "url = 'https://www.arrl.org/15-wpm-code-archive'\n",
    "data = download_and_parse(url)\n",
    "save_as_yaml(data, '../_data/arrl_15_wpm_code_archive.yaml')\n"
   ]
  }
 ],
 "metadata": {
  "kernelspec": {
   "display_name": "Python 3 (ipykernel)",
   "language": "python",
   "name": "python3"
  },
  "language_info": {
   "codemirror_mode": {
    "name": "ipython",
    "version": 3
   },
   "file_extension": ".py",
   "mimetype": "text/x-python",
   "name": "python",
   "nbconvert_exporter": "python",
   "pygments_lexer": "ipython3",
   "version": "3.10.12"
  }
 },
 "nbformat": 4,
 "nbformat_minor": 5
}
